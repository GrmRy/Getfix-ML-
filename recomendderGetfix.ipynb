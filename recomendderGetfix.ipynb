{
  "nbformat": 4,
  "nbformat_minor": 0,
  "metadata": {
    "colab": {
      "name": "recomendderGetfix.ipynb",
      "provenance": [],
      "collapsed_sections": [],
      "authorship_tag": "ABX9TyOjLTfLhQz1z3yMjCsLJw2o",
      "include_colab_link": true
    },
    "kernelspec": {
      "name": "python3",
      "display_name": "Python 3"
    },
    "language_info": {
      "name": "python"
    }
  },
  "cells": [
    {
      "cell_type": "markdown",
      "metadata": {
        "id": "view-in-github",
        "colab_type": "text"
      },
      "source": [
        "<a href=\"https://colab.research.google.com/github/GrmRy/Getfix-ML-/blob/main/recomendderGetfix.ipynb\" target=\"_parent\"><img src=\"https://colab.research.google.com/assets/colab-badge.svg\" alt=\"Open In Colab\"/></a>"
      ]
    },
    {
      "cell_type": "code",
      "execution_count": null,
      "metadata": {
        "id": "Vih7WXTwVJl-"
      },
      "outputs": [],
      "source": [
        "import pandas as pd\n",
        "import tensorflow as tf\n",
        "\n",
        "from tensorflow.keras import layers\n",
        "from tensorflow import feature_column\n",
        "\n",
        "from os import getcwd\n",
        "from sklearn.model_selection import train_test_split"
      ]
    },
    {
      "cell_type": "code",
      "source": [
        "training=pd.read_csv(\"/content/TrainingGetfix.csv\",delimiter=\";\")\n",
        "training.head(20)"
      ],
      "metadata": {
        "colab": {
          "base_uri": "https://localhost:8080/",
          "height": 206
        },
        "id": "_qZXVbSTNTUc",
        "outputId": "329118be-03e4-4842-f9fb-0053e6e8edb7"
      },
      "execution_count": null,
      "outputs": [
        {
          "output_type": "execute_result",
          "data": {
            "text/plain": [
              "   user_id nama_user    pilihan_layanan  daerah_user  teknisi\n",
              "0        1     nama1     Teknisi Laptop    Surakarta        1\n",
              "1        2     nama2     Teknisi Laptop     Surabaya        2\n",
              "2        3     nama3     Teknisi Laptop     Magelang        3\n",
              "3        4     nama4     Teknisi Laptop  DKI Jakarta        4\n",
              "4        5     nama5  Teknisi Handphone    Surakarta        5"
            ],
            "text/html": [
              "\n",
              "  <div id=\"df-d794ef0f-e075-46b6-a374-c2b9eeb232d4\">\n",
              "    <div class=\"colab-df-container\">\n",
              "      <div>\n",
              "<style scoped>\n",
              "    .dataframe tbody tr th:only-of-type {\n",
              "        vertical-align: middle;\n",
              "    }\n",
              "\n",
              "    .dataframe tbody tr th {\n",
              "        vertical-align: top;\n",
              "    }\n",
              "\n",
              "    .dataframe thead th {\n",
              "        text-align: right;\n",
              "    }\n",
              "</style>\n",
              "<table border=\"1\" class=\"dataframe\">\n",
              "  <thead>\n",
              "    <tr style=\"text-align: right;\">\n",
              "      <th></th>\n",
              "      <th>user_id</th>\n",
              "      <th>nama_user</th>\n",
              "      <th>pilihan_layanan</th>\n",
              "      <th>daerah_user</th>\n",
              "      <th>teknisi</th>\n",
              "    </tr>\n",
              "  </thead>\n",
              "  <tbody>\n",
              "    <tr>\n",
              "      <th>0</th>\n",
              "      <td>1</td>\n",
              "      <td>nama1</td>\n",
              "      <td>Teknisi Laptop</td>\n",
              "      <td>Surakarta</td>\n",
              "      <td>1</td>\n",
              "    </tr>\n",
              "    <tr>\n",
              "      <th>1</th>\n",
              "      <td>2</td>\n",
              "      <td>nama2</td>\n",
              "      <td>Teknisi Laptop</td>\n",
              "      <td>Surabaya</td>\n",
              "      <td>2</td>\n",
              "    </tr>\n",
              "    <tr>\n",
              "      <th>2</th>\n",
              "      <td>3</td>\n",
              "      <td>nama3</td>\n",
              "      <td>Teknisi Laptop</td>\n",
              "      <td>Magelang</td>\n",
              "      <td>3</td>\n",
              "    </tr>\n",
              "    <tr>\n",
              "      <th>3</th>\n",
              "      <td>4</td>\n",
              "      <td>nama4</td>\n",
              "      <td>Teknisi Laptop</td>\n",
              "      <td>DKI Jakarta</td>\n",
              "      <td>4</td>\n",
              "    </tr>\n",
              "    <tr>\n",
              "      <th>4</th>\n",
              "      <td>5</td>\n",
              "      <td>nama5</td>\n",
              "      <td>Teknisi Handphone</td>\n",
              "      <td>Surakarta</td>\n",
              "      <td>5</td>\n",
              "    </tr>\n",
              "  </tbody>\n",
              "</table>\n",
              "</div>\n",
              "      <button class=\"colab-df-convert\" onclick=\"convertToInteractive('df-d794ef0f-e075-46b6-a374-c2b9eeb232d4')\"\n",
              "              title=\"Convert this dataframe to an interactive table.\"\n",
              "              style=\"display:none;\">\n",
              "        \n",
              "  <svg xmlns=\"http://www.w3.org/2000/svg\" height=\"24px\"viewBox=\"0 0 24 24\"\n",
              "       width=\"24px\">\n",
              "    <path d=\"M0 0h24v24H0V0z\" fill=\"none\"/>\n",
              "    <path d=\"M18.56 5.44l.94 2.06.94-2.06 2.06-.94-2.06-.94-.94-2.06-.94 2.06-2.06.94zm-11 1L8.5 8.5l.94-2.06 2.06-.94-2.06-.94L8.5 2.5l-.94 2.06-2.06.94zm10 10l.94 2.06.94-2.06 2.06-.94-2.06-.94-.94-2.06-.94 2.06-2.06.94z\"/><path d=\"M17.41 7.96l-1.37-1.37c-.4-.4-.92-.59-1.43-.59-.52 0-1.04.2-1.43.59L10.3 9.45l-7.72 7.72c-.78.78-.78 2.05 0 2.83L4 21.41c.39.39.9.59 1.41.59.51 0 1.02-.2 1.41-.59l7.78-7.78 2.81-2.81c.8-.78.8-2.07 0-2.86zM5.41 20L4 18.59l7.72-7.72 1.47 1.35L5.41 20z\"/>\n",
              "  </svg>\n",
              "      </button>\n",
              "      \n",
              "  <style>\n",
              "    .colab-df-container {\n",
              "      display:flex;\n",
              "      flex-wrap:wrap;\n",
              "      gap: 12px;\n",
              "    }\n",
              "\n",
              "    .colab-df-convert {\n",
              "      background-color: #E8F0FE;\n",
              "      border: none;\n",
              "      border-radius: 50%;\n",
              "      cursor: pointer;\n",
              "      display: none;\n",
              "      fill: #1967D2;\n",
              "      height: 32px;\n",
              "      padding: 0 0 0 0;\n",
              "      width: 32px;\n",
              "    }\n",
              "\n",
              "    .colab-df-convert:hover {\n",
              "      background-color: #E2EBFA;\n",
              "      box-shadow: 0px 1px 2px rgba(60, 64, 67, 0.3), 0px 1px 3px 1px rgba(60, 64, 67, 0.15);\n",
              "      fill: #174EA6;\n",
              "    }\n",
              "\n",
              "    [theme=dark] .colab-df-convert {\n",
              "      background-color: #3B4455;\n",
              "      fill: #D2E3FC;\n",
              "    }\n",
              "\n",
              "    [theme=dark] .colab-df-convert:hover {\n",
              "      background-color: #434B5C;\n",
              "      box-shadow: 0px 1px 3px 1px rgba(0, 0, 0, 0.15);\n",
              "      filter: drop-shadow(0px 1px 2px rgba(0, 0, 0, 0.3));\n",
              "      fill: #FFFFFF;\n",
              "    }\n",
              "  </style>\n",
              "\n",
              "      <script>\n",
              "        const buttonEl =\n",
              "          document.querySelector('#df-d794ef0f-e075-46b6-a374-c2b9eeb232d4 button.colab-df-convert');\n",
              "        buttonEl.style.display =\n",
              "          google.colab.kernel.accessAllowed ? 'block' : 'none';\n",
              "\n",
              "        async function convertToInteractive(key) {\n",
              "          const element = document.querySelector('#df-d794ef0f-e075-46b6-a374-c2b9eeb232d4');\n",
              "          const dataTable =\n",
              "            await google.colab.kernel.invokeFunction('convertToInteractive',\n",
              "                                                     [key], {});\n",
              "          if (!dataTable) return;\n",
              "\n",
              "          const docLinkHtml = 'Like what you see? Visit the ' +\n",
              "            '<a target=\"_blank\" href=https://colab.research.google.com/notebooks/data_table.ipynb>data table notebook</a>'\n",
              "            + ' to learn more about interactive tables.';\n",
              "          element.innerHTML = '';\n",
              "          dataTable['output_type'] = 'display_data';\n",
              "          await google.colab.output.renderOutput(dataTable, element);\n",
              "          const docLink = document.createElement('div');\n",
              "          docLink.innerHTML = docLinkHtml;\n",
              "          element.appendChild(docLink);\n",
              "        }\n",
              "      </script>\n",
              "    </div>\n",
              "  </div>\n",
              "  "
            ]
          },
          "metadata": {},
          "execution_count": 3
        }
      ]
    },
    {
      "cell_type": "code",
      "source": [
        "train, test = train_test_split(training, test_size=0.2)\n",
        "train, val = train_test_split(train, test_size=0.2)\n",
        "print(len(train), 'train examples')\n",
        "print(len(val), 'validation examples')\n",
        "print(len(test), 'test examples')"
      ],
      "metadata": {
        "colab": {
          "base_uri": "https://localhost:8080/"
        },
        "id": "4DmzobsxbTuf",
        "outputId": "7d55e965-dcaa-4852-c6ee-2c56682ed19c"
      },
      "execution_count": null,
      "outputs": [
        {
          "output_type": "stream",
          "name": "stdout",
          "text": [
            "112 train examples\n",
            "28 validation examples\n",
            "36 test examples\n"
          ]
        }
      ]
    },
    {
      "cell_type": "code",
      "source": [
        "def df_to_dataset(training, shuffle=True, batch_size=32):\n",
        "    training = training.copy()\n",
        "    \n",
        "    # Use Pandas training's pop method to get the list of targets.\n",
        "    labels = training.pop('teknisi')# YOUR CODE HERE\n",
        "    \n",
        "    # Create a tf.data.Dataset from the training and labels.\n",
        "    ds = tf.data.Dataset.from_tensor_slices((dict(training), labels.values)) # YOUR CODE HERE\n",
        "    \n",
        "    if shuffle:\n",
        "        # Shuffle dataset.\n",
        "        ds =ds.shuffle(buffer_size = len(training)) # YOUR CODE HERE\n",
        "        \n",
        "    # Batch dataset with specified batch_size parameter.\n",
        "    ds = ds.batch(batch_size)# YOUR CODE HERE\n",
        "    \n",
        "    return ds"
      ],
      "metadata": {
        "id": "GiFMJWrrI9Su"
      },
      "execution_count": null,
      "outputs": []
    },
    {
      "cell_type": "code",
      "source": [
        "batch_size = 5 # A small batch sized is used for demonstration purposes\n",
        "train_ds = df_to_dataset(train, batch_size=batch_size)\n",
        "val_ds = df_to_dataset(val, shuffle=False, batch_size=batch_size)\n",
        "test_ds = df_to_dataset(test, shuffle=False, batch_size=batch_size)"
      ],
      "metadata": {
        "id": "LqnbAVAY6vk5"
      },
      "execution_count": null,
      "outputs": []
    },
    {
      "cell_type": "code",
      "source": [
        "for feature_batch, label_batch in train_ds.take(1):\n",
        "    print('Every feature:', list(feature_batch.keys()))\n",
        "    print('A batch of daerah_user:', feature_batch['daerah_user'])\n",
        "    print('A batch of targets:', label_batch )"
      ],
      "metadata": {
        "colab": {
          "base_uri": "https://localhost:8080/"
        },
        "id": "D7ZaC8g66zm4",
        "outputId": "aeb58379-fc23-446f-bcc5-5c390d8b5b42"
      },
      "execution_count": null,
      "outputs": [
        {
          "output_type": "stream",
          "name": "stdout",
          "text": [
            "Every feature: ['user_id', 'nama_user', 'pilihan_layanan', 'daerah_user']\n",
            "A batch of ages: tf.Tensor([b'Surabaya' b'Magelang' b'Magelang' b'Magelang' b'Surakarta'], shape=(5,), dtype=string)\n",
            "A batch of targets: tf.Tensor([ 2  7 15 11  9], shape=(5,), dtype=int64)\n"
          ]
        }
      ]
    },
    {
      "cell_type": "code",
      "source": [
        "example_batch = next(iter(train_ds))[0]\n",
        "def demo(feature_column):\n",
        "    feature_layer = layers.DenseFeatures(feature_column, dtype='float64')\n",
        "    print(feature_layer(example_batch).numpy())"
      ],
      "metadata": {
        "id": "PwkeOODG-9ii"
      },
      "execution_count": null,
      "outputs": []
    },
    {
      "cell_type": "code",
      "source": [
        "# EXERCISE: Create a categorical vocabulary column out of the\n",
        "# above mentioned categories with the key specified as 'thal'.\n",
        "layanan =feature_column.categorical_column_with_vocabulary_list('pilihan_layanan', ['Teknisi Laptop', \n",
        "                                                                                    'Teknisi Handphone', \n",
        "                                                                                    'Teknisi Tv',\n",
        "                                                                                    'Teknisi Komputer']) # YOUR CODE HERE\n",
        "\n",
        "# EXERCISE: Create an indicator column out of the created categorical column.\n",
        "thal_one_hot = feature_column.indicator_column(layanan)# YOUR CODE HERE\n",
        "\n",
        "demo(thal_one_hot)"
      ],
      "metadata": {
        "colab": {
          "base_uri": "https://localhost:8080/"
        },
        "id": "gwA-EY0j-c9M",
        "outputId": "93aa1b85-12c4-475f-ce64-0cf77abe43f4"
      },
      "execution_count": null,
      "outputs": [
        {
          "output_type": "stream",
          "name": "stdout",
          "text": [
            "[[0. 0. 0. 1.]\n",
            " [0. 0. 1. 0.]\n",
            " [0. 1. 0. 0.]\n",
            " [0. 0. 0. 1.]\n",
            " [0. 1. 0. 0.]]\n"
          ]
        }
      ]
    },
    {
      "cell_type": "code",
      "source": [
        "training.dtypes"
      ],
      "metadata": {
        "colab": {
          "base_uri": "https://localhost:8080/"
        },
        "id": "6AqWzpOO64Jn",
        "outputId": "ddf80a02-2b61-4091-a433-467de9574c5c"
      },
      "execution_count": null,
      "outputs": [
        {
          "output_type": "execute_result",
          "data": {
            "text/plain": [
              "user_id             int64\n",
              "nama_user          object\n",
              "pilihan_layanan    object\n",
              "daerah_user        object\n",
              "teknisi             int64\n",
              "dtype: object"
            ]
          },
          "metadata": {},
          "execution_count": 15
        }
      ]
    },
    {
      "cell_type": "code",
      "source": [
        "# EXERCISE: Fill in the missing code below\n",
        "feature_columns = []\n",
        "\n",
        "# Numeric Cols.\n",
        "# Create a list of numeric columns. Use the following list of columns\n",
        "numeric_columns = ['user_id']# YOUR CODE HERE\n",
        "\n",
        "for header in numeric_columns:\n",
        "    # Create a numeric feature column  out of the header.\n",
        "    numeric_feature_column =feature_column.numeric_column(header) # YOUR CODE HERE\n",
        "    \n",
        "    feature_columns.append(numeric_feature_column)\n",
        "\n",
        "# Indicator Cols.\n",
        "# Create a categorical vocabulary column out of the categories\n",
        "layanan =feature_column.categorical_column_with_vocabulary_list('pilihan_layanan', ['Teknisi Laptop', \n",
        "                                                                                    'Teknisi Handphone', \n",
        "                                                                                    'Teknisi Tv',\n",
        "                                                                                    'Teknisi Komputer'])\n",
        "\n",
        "# Create an indicator column out of the created thal categorical column\n",
        "layanan_one_hot =feature_column.indicator_column(layanan) # YOUR CODE HERE\n",
        "\n",
        "feature_columns.append(layanan_one_hot)\n",
        "daerah=feature_column.categorical_column_with_vocabulary_list('daerah_user',['Surakarta',\n",
        "                                                                             'Surabaya',\n",
        "                                                                             'DKI Jakarta',\n",
        "                                                                             'Magelang'])\n",
        "daerah_one_hot=feature_column.indicator_column(daerah)\n",
        "# the dimension parameter.\n",
        "thal_embedding =feature_column.embedding_column(thal, dimension=8) # YOUR CODE HERE\n",
        "\n",
        "feature_columns.append(thal_embedding)\n",
        "\n",
        "# Crossed Cols.\n",
        "crossed_feature = feature_column.crossed_column([age_buckets, thal], hash_bucket_size=1000) # YOUR CODE HERE\n",
        "\n",
        "# Create an indicator column out of the crossed column created above to one-hot encode it.\n",
        "crossed_feature = feature_column.indicator_column(crossed_feature) # YOUR CODE HERE\n",
        "\n",
        "feature_columns.append(crossed_feature)"
      ],
      "metadata": {
        "id": "Pot4KAmB7ECY"
      },
      "execution_count": null,
      "outputs": []
    }
  ]
}